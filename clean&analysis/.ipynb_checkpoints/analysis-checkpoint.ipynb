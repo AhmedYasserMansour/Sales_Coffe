{
 "cells": [
  {
   "cell_type": "code",
   "execution_count": 1,
   "id": "e10e12fe-7372-48f8-8250-507a70529ae4",
   "metadata": {},
   "outputs": [],
   "source": [
    "import numpy as np\n",
    "import pandas as pd\n",
    "import matplotlib.pyplot as plt"
   ]
  },
  {
   "cell_type": "code",
   "execution_count": 179,
   "id": "588771aa-c4fe-4a7c-9109-e2530025bf00",
   "metadata": {},
   "outputs": [],
   "source": [
    "df = pd.read_csv(r'C:\\Users\\Ahmed Yasser\\Desktop\\Sales_Coffe\\clean&analysis\\cleaning_data.csv')"
   ]
  },
  {
   "cell_type": "code",
   "execution_count": 178,
   "id": "edb77815-1f43-459e-8367-41f1a13d63d2",
   "metadata": {},
   "outputs": [
    {
     "data": {
      "text/plain": [
       "np.float64(15.89)"
      ]
     },
     "execution_count": 178,
     "metadata": {},
     "output_type": "execute_result"
    }
   ],
   "source": [
    "df_2024 = df[df['Date'].dt.year == 2024]\n",
    "df_2024.describe()\n",
    "std = df['Money'].std()\n",
    "AVG = df_2024['Money'].mean()\n",
    "CV = std / AVG\n",
    "rate_std_percent = CV * 100\n",
    "round(rate_std_percent,2)"
   ]
  },
  {
   "cell_type": "code",
   "execution_count": 176,
   "id": "dba931a6-e3d7-471c-a1c0-62be373b574c",
   "metadata": {},
   "outputs": [
    {
     "data": {
      "text/plain": [
       "np.float64(31.87)"
      ]
     },
     "execution_count": 176,
     "metadata": {},
     "output_type": "execute_result"
    }
   ],
   "source": [
    "# Total Sales & AVG_sales\n",
    "# df['Date'] = pd.to_datetime(df['Date'], errors='coerce')\n",
    "# data_2024 = df[(df['Date'].dt.year == 2024)]\n",
    "# top_sales = round((data_2024['Money'].max()),2)\n",
    "# AVG_sales = round((data_2024['Money'].mean()),2)\n",
    "# min_sales = round((data_2024['Money'].min()),2)\n",
    "# colors = ['green', 'orange', 'red']\n",
    "# labels=['Max Sale', 'Average Sale', 'Min Sale']\n",
    "# plt.bar(labels,[top_sales,AVG_sales,min_sales],color=colors);\n",
    "# plt.title('Total Sales & AVG_sales')\n",
    "# plt.xlabel('Value')\n",
    "# plt.ylabel('Price')"
   ]
  },
  {
   "cell_type": "code",
   "execution_count": 125,
   "id": "723c665c-6892-4201-ac26-a08abd388c12",
   "metadata": {},
   "outputs": [],
   "source": [
    "# Best drinks selling per day of the week by count ?\n",
    "# day_totals = df.groupby('Day of week')['Coffee_name'].count().sort_values(ascending=False)\n",
    "# sorted_days = day_totals.index\n",
    "# best_drinks_per_day_of_week = df.groupby('Day of week')['Coffee_name'].apply(lambda x : x.value_counts().head(1)).loc[sorted_days]\n",
    "# df_best_drinks = pd.DataFrame(best_drinks_per_day_of_week.sort_values(ascending=False))\n",
    "# df_best_drinks.plot(kind='bar',figsize=(12,6))\n",
    "# plt.title('Best drinks selling per day of the week by count',fontsize=14,fontweight='bold')\n",
    "# plt.xticks(fontweight='bold')\n",
    "# plt.yticks(np.arange(0,best_drinks_per_day_of_week.max() +10,10),fontweight='bold')\n",
    "# plt.ylabel('Count of sales',fontweight='bold')\n",
    "# plt.xlabel('Day of week, Coffee_name', fontweight='bold')\n",
    "# plt.legend().set_visible(False)"
   ]
  },
  {
   "cell_type": "code",
   "execution_count": 72,
   "id": "c7a96ace-f599-47df-87f4-6b85626e88e7",
   "metadata": {},
   "outputs": [],
   "source": [
    "# Top 10 hour by sales ?\n",
    "# coffee_by_sales = df.groupby('Hour')['Money'].sum().sort_values(ascending=False).head(10);\n",
    "# colors = ['red', 'green', 'blue', 'orange', 'purple', 'cyan', 'magenta', 'yellow']\n",
    "# coffee_by_sales.plot(kind='bar',figsize=(12,6),color=colors);\n",
    "# plt.title('Top 10 hour by sales',fontsize=14,fontweight='bold')\n",
    "# plt.yticks(np.arange(0,coffee_by_sales.max()+1000,1000),fontweight='bold');\n",
    "# plt.xticks(fontweight='bold');\n",
    "# plt.ylabel('Total Sales',fontweight='bold')\n",
    "# plt.xlabel('Hour',fontweight='bold');"
   ]
  },
  {
   "cell_type": "code",
   "execution_count": 52,
   "id": "f6a588c1-529f-469a-b734-a503dd2730c5",
   "metadata": {},
   "outputs": [],
   "source": [
    "# Top 10 drinks selling per hour by count ?\n",
    "# coffee_by_hour = df.groupby('Hour')['Coffee_name'].value_counts().sort_values(ascending=False).head(10);\n",
    "# colors = ['red', 'green', 'blue', 'orange', 'purple', 'cyan', 'magenta', 'yellow']\n",
    "# coffee_by_hour.plot(kind='bar',figsize=(12,6),color=colors);\n",
    "# plt.title('Top 10 drinks selling per hour by count',fontsize=14,fontweight='bold')\n",
    "# plt.yticks(np.arange(0,coffee_by_hour.max()+5,5),fontweight='bold');\n",
    "# plt.xticks(fontweight='bold');\n",
    "# plt.ylabel('Count of Sales',fontweight='bold')\n",
    "# plt.xlabel('Hour, Name_coffee',fontweight='bold')"
   ]
  },
  {
   "cell_type": "code",
   "execution_count": 53,
   "id": "0d36a846-d9b9-465d-9074-8d12f5af4c85",
   "metadata": {},
   "outputs": [],
   "source": [
    "# Selling Total per Time_of_day ?\n",
    "# time_of_day_sales = df.groupby('Time_of_day')['Money'].sum().sort_values(ascending=False)\n",
    "# time_of_day_sales.plot(kind='bar', figsize=(14, 6), color=['lightgreen', 'orange', 'red'])\n",
    "# plt.title('Selling Total per Time_of_day',fontsize=16,fontweight='bold')\n",
    "# plt.yticks(np.arange(0, time_of_day_sales.max() + 5000, 5000), fontweight='bold')\n",
    "# plt.xticks(fontweight='bold');\n",
    "# plt.xlabel('Time_of_day',fontsize=14,fontweight='bold');\n",
    "# plt.ylabel('Total Sales',fontsize=14,fontweight='bold');\n",
    "# for i, val in enumerate(time_of_day_sales) :\n",
    "#     plt.text(i,val + val * 0.03, f\"{round(val,2)}\",ha='center',fontweight='bold')"
   ]
  },
  {
   "cell_type": "code",
   "execution_count": null,
   "id": "8e08b3ed-ed86-4392-8781-0925f82d074d",
   "metadata": {},
   "outputs": [],
   "source": [
    "# selling count per drink from Time_of_day ?\n",
    "# time_of_date = df.groupby('Coffee_name')['Time_of_day'].value_counts()\n",
    "# time_of_date = time_of_date.reset_index(name='Count')\n",
    "# time_of_date.pivot(index='Time_of_day', columns='Coffee_name', values='Count').plot(kind='bar', figsize=(14,6));\n",
    "# plt.title('Sselling count per drink from Time_of_day',fontsize=16,fontweight='bold')\n",
    "# plt.yticks(np.arange(0, time_of_date['Count'].max() + 20, 20),fontweight='bold');\n",
    "# plt.xticks(fontweight='bold');\n",
    "# plt.xlabel('Time_of_day',fontsize=14,fontweight='bold')\n",
    "# plt.ylabel('Sales count',fontsize=14,fontweight='bold')\n",
    "# plt.legend().set_visible(False)"
   ]
  },
  {
   "cell_type": "code",
   "execution_count": null,
   "id": "22d6fef2-ea93-4b08-81fe-35828dac6d8e",
   "metadata": {},
   "outputs": [],
   "source": [
    "# # Days of week by sales in 2024 ?\n",
    "# df_2024 = df[df['Date'].dt.year == 2024]\n",
    "# df_2024 = df_2024.groupby('Day of week')['Money'].sum().sort_values(ascending=False);\n",
    "# df_2024.plot(kind='bar',figsize=(12, 6),color='green',zorder=3);\n",
    "# plt.grid(alpha=0.5)\n",
    "# for i, val in enumerate(df_2024) :\n",
    "#     plt.text(i,val + val * 0.02, f\"{round(val,2)}\", ha='center',fontweight='bold')\n",
    "# plt.title('Days of week by sales in 2024',fontsize=16,fontweight='bold')\n",
    "# plt.xlabel('Days of week',fontsize=14,fontweight='bold');\n",
    "# plt.ylabel('Sales',fontsize=14,fontweight='bold');\n",
    "# plt.xticks(fontsize=10,fontweight='bold');\n",
    "# plt.yticks(fontsize=10,fontweight='bold');"
   ]
  },
  {
   "cell_type": "code",
   "execution_count": null,
   "id": "cd76cd1a-caf5-42a7-8e74-8ba8471518d1",
   "metadata": {},
   "outputs": [],
   "source": [
    "# # Top 5 drinks selling per month ?\n",
    "# df_2024 = df[df['Date'].dt.year == 2024]\n",
    "# top_5_month = df_2024.groupby('Month')['Coffee_name'].apply(lambda x : x.value_counts().head())\n",
    "# top_5_month = pd.DataFrame(top_5_month)\n",
    "# ax = top_5_month.plot(kind='bar', figsize=(14, 8),color= 'orange');\n",
    "# for container in ax.containers :\n",
    "#     for bar in container :\n",
    "#         height = bar.get_height()\n",
    "#         if height > 0 :\n",
    "#             ax.text (\n",
    "#                 bar.get_x() + bar.get_width() / 2,\n",
    "#                 height + 2,\n",
    "#                 f\"{round(height,2)}\",\n",
    "#                 ha = 'center',\n",
    "#                 fontsize = 10,\n",
    "#                 fontweight ='bold',\n",
    "#                 rotation = 90 )\n",
    "# plt.xticks(fontweight='bold');\n",
    "# plt.yticks(fontweight='bold');\n",
    "# plt.title('Top 5 drinks selling per month',fontsize=16,fontweight='bold')\n",
    "# plt.xlabel('Month, Coffee_name',fontsize=14,fontweight='bold')\n",
    "# plt.ylabel('Sales By Count',fontsize=14,fontweight='bold');"
   ]
  },
  {
   "cell_type": "code",
   "execution_count": 177,
   "id": "fdfa008f-a249-4064-9c1a-96fba26a12de",
   "metadata": {},
   "outputs": [],
   "source": [
    "# Calculating the percentage of cash and card according to the total ?\n",
    "# count = len(df['Cash_type'])\n",
    "# card = df['Cash_type'].apply(lambda x: x == 'card').sum()\n",
    "# cash = df['Cash_type'].apply(lambda x: x == 'cash').sum()\n",
    "# card_rate = round(card / count,2) * 100\n",
    "# cash_rate = round(cash / count,2) * 100\n",
    "# plt.pie([card_rate ,cash_rate ],labels=['card_rate','cash_rate'],autopct='%1.1f%%');\n",
    "# plt.title('Payment Method Distribution');"
   ]
  },
  {
   "cell_type": "code",
   "execution_count": 150,
   "id": "d40fafe3-b448-4c88-8773-2285a676d236",
   "metadata": {},
   "outputs": [],
   "source": [
    "# total paid cash & card ?\n",
    "# total_paid = df.groupby(['Coffee_name', 'Cash_type'])['Money'].sum().unstack(fill_value=0)\n",
    "# ax = total_paid.plot(kind='bar', figsize=(16, 6),width=0.7);\n",
    "# for container in ax.containers:\n",
    "#     for bar in container:\n",
    "#         height = bar.get_height()\n",
    "#         if height > 0:\n",
    "#             ax.text(\n",
    "#                 bar.get_x() + bar.get_width() / 2,\n",
    "#                 height + height * 0.05,\n",
    "#                 f\"{round(height, 2)}\",\n",
    "#                 ha='center', fontsize=10, rotation=90\n",
    "#             )\n",
    "# plt.title('Payment Methods by Coffee Type',fontweight='bold')\n",
    "# plt.xlabel('Coffee Name',fontweight='bold')\n",
    "# plt.ylabel('Total Paid',fontweight='bold')\n",
    "# plt.xticks(fontweight='bold')\n",
    "# plt.yticks(fontweight='bold')\n",
    "# plt.legend(title='Payment Method')\n",
    "# plt.grid(axis='y', linestyle='--', alpha=0.5)"
   ]
  },
  {
   "cell_type": "code",
   "execution_count": null,
   "id": "16e1e757-f54d-4196-b6e4-c471085010be",
   "metadata": {},
   "outputs": [],
   "source": [
    "# Analysis of March Sales Variation Between 2024 and 2025 ?\n",
    "# df_2024_March = df[(df['Date'].dt.year == 2024) & (df['Date'].dt.month_name() == 'March')]['Money'].sum()\n",
    "# df_2025_March = df[(df['Date'].dt.year == 2025) & (df['Date'].dt.month_name() == 'March')]['Money'].sum()\n",
    "# round(df_2024_March,2)\n",
    "# round(df_2025_March,2)\n",
    "# change_percentage = ((df_2025_March - df_2024_March) / df_2024_March) * 100\n",
    "# rate = f\"{round(change_percentage,2)}%\"\n",
    "# years = ['2024', '2025']\n",
    "# sales = [df_2024_March, df_2025_March]\n",
    "# plt.figure(figsize=(8, 5))\n",
    "# bars = plt.bar(years, sales, color=['r', 'b'])\n",
    "# for i, val in enumerate(sales) :\n",
    "#     plt.text(i, val - val * 0.1, f\"{round(val, 2)}\", ha='center',fontsize=12, fontweight='bold',color='w')\n",
    "# plt.title('March Sales Comparison: 2024 vs 2025',fontsize=16, fontweight='bold')\n",
    "# plt.xlabel('Years',fontsize=14, fontweight='bold')\n",
    "# plt.ylabel('Total sales',fontsize=14, fontweight='bold')\n",
    "# plt.xticks(fontsize=12, fontweight='bold');\n",
    "# plt.yticks(fontsize=12, fontweight='bold');"
   ]
  },
  {
   "cell_type": "code",
   "execution_count": null,
   "id": "0acb10f1-ad4c-4ca5-9df8-dfe41e9a71d2",
   "metadata": {},
   "outputs": [],
   "source": []
  }
 ],
 "metadata": {
  "kernelspec": {
   "display_name": "Python 3 (ipykernel)",
   "language": "python",
   "name": "python3"
  },
  "language_info": {
   "codemirror_mode": {
    "name": "ipython",
    "version": 3
   },
   "file_extension": ".py",
   "mimetype": "text/x-python",
   "name": "python",
   "nbconvert_exporter": "python",
   "pygments_lexer": "ipython3",
   "version": "3.13.3"
  }
 },
 "nbformat": 4,
 "nbformat_minor": 5
}
